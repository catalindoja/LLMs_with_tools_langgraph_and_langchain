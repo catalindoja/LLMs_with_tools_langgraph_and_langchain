{
 "cells": [
  {
   "cell_type": "code",
   "execution_count": null,
   "id": "a80b6cdb-e872-4eeb-b60b-1b395798ace8",
   "metadata": {},
   "outputs": [],
   "source": [
    "!ollama pull \"llama3.2\""
   ]
  },
  {
   "cell_type": "code",
   "execution_count": 27,
   "id": "70851e44-1b25-4f5d-af5c-d4a17bd88532",
   "metadata": {},
   "outputs": [],
   "source": [
    "from langchain_community.llms import Ollama\n",
    "from langchain.memory import ConversationBufferWindowMemory\n",
    "from langchain.chains import ConversationChain\n",
    "from langchain_ollama import ChatOllama\n",
    "from typing import TypedDict, Annotated, Sequence\n",
    "import operator\n",
    "from langchain_core.messages import BaseMessage\n",
    "from langchain_core.tools import tool\n",
    "\n",
    "\n",
    "model = ChatOllama(\n",
    "    #model = \"llama3.2\",\n",
    "    model = 'mistral',\n",
    "    temperature = 0,\n",
    ")\n"
   ]
  },
  {
   "cell_type": "code",
   "execution_count": 28,
   "id": "47661ae0-1b40-4fed-af16-0b4038d95464",
   "metadata": {},
   "outputs": [],
   "source": [
    "from langchain_core.tools import tool\n",
    "\n",
    "@tool\n",
    "def add(a: int, b: int) -> int:\n",
    "    \"\"\"Do the addition of the two numbers a and b\"\"\"\n",
    "    return a + b\n",
    "\n",
    "@tool\n",
    "def mul(a: int, b: int) -> int:\n",
    "    \"\"\"Do the multiplication of the two numbers a and b\"\"\"\n",
    "    return a * b\n",
    "\n",
    "@tool\n",
    "def sub(a: int, b: int) -> int:\n",
    "    \"\"\"Do the substraction of the two numbers a and b\"\"\"\n",
    "    return a - b\n",
    "\n",
    "@tool\n",
    "def div(a: int, b: int) -> int:\n",
    "    \"\"\"Do the division of the two numbers a and b\"\"\"\n",
    "    try:\n",
    "        return a / b\n",
    "    except:\n",
    "        return -1"
   ]
  },
  {
   "cell_type": "code",
   "execution_count": 29,
   "id": "b70f4651-3c5c-4843-a7b7-1f48457c132e",
   "metadata": {},
   "outputs": [],
   "source": [
    "class AgentState(TypedDict):\n",
    "    messages: Annotated[Sequence[BaseMessage], operator.add]\n",
    "    api_call_count: int = 0\n",
    "\n",
    "llm_with_tools = model.bind_tools([add, mul, sub, div])"
   ]
  },
  {
   "cell_type": "code",
   "execution_count": 36,
   "id": "8589fb09-049e-4561-b68e-da812ca59d9c",
   "metadata": {},
   "outputs": [
    {
     "name": "stdout",
     "output_type": "stream",
     "text": [
      "[HumanMessage(content='Could you add 5 and 7 please?', additional_kwargs={}, response_metadata={}), HumanMessage(content='Could you divide 100 by 5 please?', additional_kwargs={}, response_metadata={}), AIMessage(content='', additional_kwargs={}, response_metadata={'model': 'mistral', 'created_at': '2024-11-11T09:37:58.75658974Z', 'message': {'role': 'assistant', 'content': '', 'tool_calls': [{'function': {'name': 'add', 'arguments': {'a': 5, 'b': 7}}}, {'function': {'name': 'div', 'arguments': {'a': 100, 'b': 5}}}]}, 'done_reason': 'stop', 'done': True, 'total_duration': 1219986014, 'load_duration': 10830576, 'prompt_eval_count': 308, 'prompt_eval_duration': 231582000, 'eval_count': 96, 'eval_duration': 835377000}, id='run-63bc151a-dc39-4490-80d6-1c82124240e3-0', tool_calls=[{'name': 'add', 'args': {'a': 5, 'b': 7}, 'id': 'deb69070-0149-4cb3-9576-76965bc10068', 'type': 'tool_call'}, {'name': 'div', 'args': {'a': 100, 'b': 5}, 'id': '683f108a-50de-419e-9f8a-cdd86b6f9247', 'type': 'tool_call'}], usage_metadata={'input_tokens': 308, 'output_tokens': 96, 'total_tokens': 404})]\n"
     ]
    }
   ],
   "source": [
    "from langchain_core.messages import HumanMessage, ToolMessage\n",
    "\n",
    "tool_mapping = {\"add\": add, \"mul\": mul, \"sub\": sub, \"div\": div}\n",
    "\n",
    "messages = [\n",
    "    HumanMessage(\n",
    "        \"Could you add 5 and 7 please?\"\n",
    "    ),\n",
    "    HumanMessage(\n",
    "        \"Could you divide 100 by 5 please?\"\n",
    "    )\n",
    "]\n",
    "llm_output = llm_with_tools.invoke(messages)\n",
    "messages.append(llm_output)\n",
    "print(messages)"
   ]
  },
  {
   "cell_type": "code",
   "execution_count": 37,
   "id": "17e7b012-7fa3-4215-89e7-a4f87cf3d905",
   "metadata": {},
   "outputs": [
    {
     "name": "stdout",
     "output_type": "stream",
     "text": [
      "name='add' description='Do the addition of the two numbers a and b' args_schema=<class 'langchain_core.utils.pydantic.add'> func=<function add at 0x7f8d188971a0>\n",
      "deb69070-0149-4cb3-9576-76965bc10068\n",
      "name='div' description='Do the division of the two numbers a and b' args_schema=<class 'langchain_core.utils.pydantic.div'> func=<function div at 0x7f8d18894180>\n",
      "683f108a-50de-419e-9f8a-cdd86b6f9247\n"
     ]
    },
    {
     "data": {
      "text/plain": [
       "AIMessage(content='12 is the result of adding 5 and 7, and 20.0 is the result of dividing 100 by 5.', additional_kwargs={}, response_metadata={'model': 'mistral', 'created_at': '2024-11-11T09:37:59.370709056Z', 'message': {'role': 'assistant', 'content': '12 is the result of adding 5 and 7, and 20.0 is the result of dividing 100 by 5.'}, 'done_reason': 'stop', 'done': True, 'total_duration': 601874911, 'load_duration': 8016812, 'prompt_eval_count': 89, 'prompt_eval_duration': 25608000, 'eval_count': 34, 'eval_duration': 264229000}, id='run-147ee565-f66e-484c-9129-a8e753540211-0', usage_metadata={'input_tokens': 89, 'output_tokens': 34, 'total_tokens': 123})"
      ]
     },
     "execution_count": 37,
     "metadata": {},
     "output_type": "execute_result"
    }
   ],
   "source": [
    "for tool_call in llm_output.tool_calls:\n",
    "    tool = tool_mapping[tool_call[\"name\"].lower()]\n",
    "    tool_output = tool.invoke(tool_call[\"args\"])\n",
    "    messages.append(ToolMessage(content=tool_output, tool_call_id=tool_call[\"id\"]))\n",
    "\n",
    "llm_with_tools.invoke(messages)"
   ]
  },
  {
   "cell_type": "markdown",
   "id": "27a47026-691a-408f-9976-0872e2f0a357",
   "metadata": {},
   "source": [
    "# Lang Graph creation"
   ]
  },
  {
   "cell_type": "code",
   "execution_count": 44,
   "id": "693f8f4d-50c7-4b9b-9848-bd1970bc4439",
   "metadata": {},
   "outputs": [],
   "source": [
    "def call_model(state: AgentState):\n",
    "    messages = state[\"messages\"]\n",
    "    response = llm_with_tools.invoke(messages)\n",
    "    return {\"messages\": [response]}\n",
    "\n",
    "\n",
    "def router(input: list[HumanMessage]):\n",
    "    print(input[\"messages\"][1].content)\n",
    "    \n",
    "    if (\"add\" or \"adding\") in input[\"messages\"][1].content:\n",
    "        return \"add\"\n",
    "    elif \"multiply\" in input[\"messages\"][1].content:\n",
    "        return \"mul\"\n",
    "    elif \"substract\" in input[\"messages\"][1].content:\n",
    "        return \"sub\"\n",
    "    elif (\"divide\" or \"division\") in input[\"messages\"][1].content:\n",
    "        return \"div\"\n",
    "\n",
    "\n",
    "def call_tool(state: AgentState):\n",
    "    messages = state[\"messages\"]\n",
    "    last_message = messages[-1]\n",
    "    tool_call = last_message.tool_calls[0]\n",
    "    tool = tool_mapping[tool_call[\"name\"].lower()]\n",
    "    tool_output = tool.invoke(tool_call[\"args\"])\n",
    "    # print(\"Tool output:\", tool_output)\n",
    "    tool_message = ToolMessage(content=tool_output, tool_call_id=tool_call[\"id\"])\n",
    "    return {\"messages\": [tool_message]}"
   ]
  },
  {
   "cell_type": "code",
   "execution_count": 39,
   "id": "76d63dd1-781f-4314-9fde-acf8d0f93ad7",
   "metadata": {},
   "outputs": [],
   "source": [
    "from langgraph.graph import StateGraph, END\n",
    "from langgraph.checkpoint.memory import MemorySaver\n",
    "\n",
    "memory = MemorySaver()\n",
    "\n",
    "workflow = StateGraph(AgentState)\n",
    "\n",
    "workflow.add_node(\"agent\", call_model)\n",
    "workflow.add_node(\"action\", call_tool)\n",
    "\n",
    "\n",
    "workflow.set_entry_point(\"agent\")\n",
    "\n",
    "workflow.add_edge(\"agent\", \"action\")\n",
    "workflow.add_edge(\"action\", END)\n",
    "\n",
    "\n",
    "app = workflow.compile()"
   ]
  },
  {
   "cell_type": "code",
   "execution_count": 40,
   "id": "a2d14514-8345-4f63-8ce4-679116cb29db",
   "metadata": {
    "scrolled": true
   },
   "outputs": [
    {
     "data": {
      "image/jpeg": "[encoded data removed]",
      "text/plain": [
       "<IPython.core.display.Image object>"
      ]
     },
     "metadata": {},
     "output_type": "display_data"
    }
   ],
   "source": [
    "from IPython.display import Image, display\n",
    "\n",
    "try:\n",
    "    display(Image(app.get_graph(xray=True).draw_mermaid_png()))\n",
    "except:\n",
    "    pass"
   ]
  },
  {
   "cell_type": "code",
   "execution_count": 43,
   "id": "5b819e34-ce70-4c3c-bb99-c1dec981832d",
   "metadata": {},
   "outputs": [
    {
     "name": "stdout",
     "output_type": "stream",
     "text": [
      "last mesage\n",
      "content='' additional_kwargs={} response_metadata={'model': 'mistral', 'created_at': '2024-11-11T09:40:17.475521456Z', 'message': {'role': 'assistant', 'content': '', 'tool_calls': [{'function': {'name': 'add', 'arguments': {'a': 7, 'b': 5}}}]}, 'done_reason': 'stop', 'done': True, 'total_duration': 956702163, 'load_duration': 8652676, 'prompt_eval_count': 312, 'prompt_eval_duration': 165937000, 'eval_count': 68, 'eval_duration': 633927000} id='run-64dc3b2b-6fee-4352-9347-0f990c992263-0' tool_calls=[{'name': 'add', 'args': {'a': 7, 'b': 5}, 'id': 'bdaf8f97-0860-429e-ae4f-e31a3fe43c43', 'type': 'tool_call'}] usage_metadata={'input_tokens': 312, 'output_tokens': 68, 'total_tokens': 380}\n",
      "tool call\n",
      "{'name': 'add', 'args': {'a': 7, 'b': 5}, 'id': 'bdaf8f97-0860-429e-ae4f-e31a3fe43c43', 'type': 'tool_call'}\n",
      "tool output\n",
      "12\n",
      "Tool output: 12\n"
     ]
    }
   ],
   "source": [
    "from langchain_core.messages import SystemMessage\n",
    "\n",
    "system_message = SystemMessage(\n",
    "    content=\"You are responsible for answering user questions. You use tools for that.\"\n",
    ")\n",
    "human_message = HumanMessage(content=\"What is the result of adding 7 and 5?\")\n",
    "messages = [system_message, human_message]\n",
    "\n",
    "result = app.invoke({\"messages\": messages})"
   ]
  },
  {
   "cell_type": "code",
   "execution_count": null,
   "id": "3a835574-69ea-451b-a7e6-7a250bee729a",
   "metadata": {},
   "outputs": [],
   "source": []
  },
  {
   "cell_type": "code",
   "execution_count": null,
   "id": "ca06dfa7-cca7-44ca-a6a2-b24476cc9b0c",
   "metadata": {},
   "outputs": [],
   "source": []
  }
 ],
 "metadata": {
  "kernelspec": {
   "display_name": "Python 3 (ipykernel)",
   "language": "python",
   "name": "python3"
  },
  "language_info": {
   "codemirror_mode": {
    "name": "ipython",
    "version": 3
   },
   "file_extension": ".py",
   "mimetype": "text/x-python",
   "name": "python",
   "nbconvert_exporter": "python",
   "pygments_lexer": "ipython3",
   "version": "3.11.0rc1"
  }
 },
 "nbformat": 4,
 "nbformat_minor": 5
}
